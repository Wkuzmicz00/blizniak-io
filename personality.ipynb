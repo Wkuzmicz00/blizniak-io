{
 "cells": [
  {
   "cell_type": "code",
   "execution_count": 2,
   "metadata": {},
   "outputs": [],
   "source": [
    "from transformers import BertTokenizer, BertForSequenceClassification\n",
    "\n",
    "def personality_detection(text):\n",
    "    tokenizer = BertTokenizer.from_pretrained(\"Minej/bert-base-personality\")\n",
    "    model = BertForSequenceClassification.from_pretrained(\"Minej/bert-base-personality\")\n",
    "\n",
    "    inputs = tokenizer(text, truncation=True, padding=True, return_tensors=\"pt\")\n",
    "    outputs = model(**inputs)\n",
    "    predictions = outputs.logits.squeeze().detach().numpy()\n",
    "\n",
    "    label_names = ['Extroversion', 'Neuroticism', 'Agreeableness', 'Conscientiousness', 'Openness']\n",
    "    result = {label_names[i]: predictions[i] for i in range(len(label_names))}\n",
    "\n",
    "    return result"
   ]
  },
  {
   "cell_type": "code",
   "execution_count": 3,
   "metadata": {},
   "outputs": [
    {
     "name": "stdout",
     "output_type": "stream",
     "text": [
      "{'Extroversion': 0.07082593, 'Neuroticism': 0.1715387, 'Agreeableness': -0.11640551, 'Conscientiousness': -0.4975104, 'Openness': 0.1359039}\n"
     ]
    }
   ],
   "source": [
    "test = \"Hi, I’m a curious explorer of life! I’m passionate about creativity, whether it’s through art, writing, or discovering new skills. I love traveling, learning about different cultures, and enjoying nature’s beauty. A foodie at heart, I’m always hunting for new flavors. Let’s connect and share some adventures together!\"\n",
    "print(personality_detection(test))"
   ]
  },
  {
   "cell_type": "code",
   "execution_count": 4,
   "metadata": {},
   "outputs": [
    {
     "data": {
      "text/plain": [
       "array([[4, 2, 4, 4, 5],\n",
       "       [4, 3, 5, 4, 3],\n",
       "       [3, 4, 2, 2, 3],\n",
       "       [4, 3, 4, 3, 5],\n",
       "       [3, 2, 4, 4, 4],\n",
       "       [3, 2, 4, 4, 3],\n",
       "       [3, 4, 4, 4, 3],\n",
       "       [2, 4, 4, 3, 2],\n",
       "       [4, 3, 3, 3, 5],\n",
       "       [3, 2, 4, 4, 2]], dtype=object)"
      ]
     },
     "execution_count": 4,
     "metadata": {},
     "output_type": "execute_result"
    }
   ],
   "source": [
    "import pandas as pd\n",
    "import numpy as np\n",
    "big_five = pd.read_csv('zwierzeta_big_five.csv')\n",
    "big_five = np.array(big_five)\n",
    "big_five_labels = big_five[:,0]\n",
    "big_five_data = big_five[:,1:]\n",
    "big_five_data"
   ]
  },
  {
   "cell_type": "code",
   "execution_count": 5,
   "metadata": {},
   "outputs": [],
   "source": [
    "from sklearn.preprocessing import StandardScaler\n",
    "scaler = StandardScaler()\n",
    "scaler.fit(big_five_data)\n",
    "big_five_data = scaler.transform(big_five_data)"
   ]
  },
  {
   "cell_type": "code",
   "execution_count": 6,
   "metadata": {},
   "outputs": [],
   "source": [
    "def euclidean_distance(x, y):\n",
    "    return np.sqrt(np.sum((x - y) ** 2))"
   ]
  },
  {
   "cell_type": "code",
   "execution_count": 11,
   "metadata": {},
   "outputs": [
    {
     "name": "stdout",
     "output_type": "stream",
     "text": [
      "Dolphin 2.4012609596248264\n",
      "Dog 2.427127649704181\n",
      "Domestic Cat 3.1971090903689694\n",
      "Parrot 1.646307328536688\n",
      "Elephant 1.9117478251840834\n",
      "Wolf 1.974307986364099\n",
      "Horse 1.9109078683232337\n",
      "Rabbits 2.852201565559488\n",
      "Capuchin Monkey 1.8629679496202856\n",
      "Cow 2.396039294950326\n",
      "Smallest distance: 3 Parrot\n"
     ]
    }
   ],
   "source": [
    "personality = personality_detection(test)\n",
    "personality = np.array(list(personality.values()))\n",
    "distances = []\n",
    "for i in range(len(big_five_data)):\n",
    "    distances.append(euclidean_distance(big_five_data[i], personality))\n",
    "    print(big_five_labels[i], euclidean_distance(big_five_data[i], personality))\n",
    "    \n",
    "print(f\"Smallest distance: {np.argmin(distances)} {big_five_labels[np.argmin(distances)]}\")\n"
   ]
  },
  {
   "cell_type": "code",
   "execution_count": 15,
   "metadata": {},
   "outputs": [],
   "source": [
    "def calculate_percent_similarity(distance):\n",
    "    min_distance = 1\n",
    "    max_distance = 5\n",
    "    return (1 - (distance - min_distance) / (max_distance - min_distance) )*100"
   ]
  },
  {
   "cell_type": "code",
   "execution_count": 16,
   "metadata": {},
   "outputs": [
    {
     "name": "stdout",
     "output_type": "stream",
     "text": [
      "83.8423167865828\n"
     ]
    }
   ],
   "source": [
    "print(calculate_percent_similarity(distances[np.argmin(distances)]))"
   ]
  },
  {
   "cell_type": "code",
   "execution_count": 17,
   "metadata": {},
   "outputs": [],
   "source": [
    "Closest_personality = big_five_labels[np.argmin(distances)]\n",
    "Percent_similarity = calculate_percent_similarity(distances[np.argmin(distances)])"
   ]
  }
 ],
 "metadata": {
  "kernelspec": {
   "display_name": "Python 3",
   "language": "python",
   "name": "python3"
  },
  "language_info": {
   "codemirror_mode": {
    "name": "ipython",
    "version": 3
   },
   "file_extension": ".py",
   "mimetype": "text/x-python",
   "name": "python",
   "nbconvert_exporter": "python",
   "pygments_lexer": "ipython3",
   "version": "3.11.4"
  }
 },
 "nbformat": 4,
 "nbformat_minor": 2
}
