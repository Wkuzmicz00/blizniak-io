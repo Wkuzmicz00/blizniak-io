{
 "cells": [
  {
   "cell_type": "code",
   "execution_count": 1,
   "id": "initial_id",
   "metadata": {
    "ExecuteTime": {
     "end_time": "2024-12-05T19:45:11.207627Z",
     "start_time": "2024-12-05T19:45:11.204224Z"
    },
    "collapsed": true
   },
   "outputs": [],
   "source": [
    "import torch.nn as nn\n",
    "import torch\n",
    "from torch.utils.data import Dataset"
   ]
  },
  {
   "cell_type": "code",
   "execution_count": 2,
   "id": "bde13a7543501ff5",
   "metadata": {
    "ExecuteTime": {
     "end_time": "2024-12-05T19:45:11.362532Z",
     "start_time": "2024-12-05T19:45:11.359066Z"
    },
    "collapsed": false
   },
   "outputs": [
    {
     "name": "stdout",
     "output_type": "stream",
     "text": [
      "GPU: NVIDIA GeForce GTX 1650 is available.\n"
     ]
    }
   ],
   "source": [
    "\n",
    "if torch.cuda.is_available():\n",
    "    print(f\"GPU: {torch.cuda.get_device_name(0)} is available.\")\n",
    "else:\n",
    "    print(\"No GPU available. Training will run on CPU.\")"
   ]
  },
  {
   "cell_type": "code",
   "execution_count": 3,
   "id": "cb600f34e95648da",
   "metadata": {
    "ExecuteTime": {
     "end_time": "2024-12-05T19:45:11.538769Z",
     "start_time": "2024-12-05T19:45:11.534844Z"
    },
    "collapsed": false
   },
   "outputs": [
    {
     "name": "stdout",
     "output_type": "stream",
     "text": [
      "cuda\n"
     ]
    }
   ],
   "source": [
    "device = torch.device(\"cuda\" if torch.cuda.is_available() else \"cpu\")\n",
    "print(device)"
   ]
  },
  {
   "cell_type": "code",
   "execution_count": 4,
   "id": "682307445036b896",
   "metadata": {
    "ExecuteTime": {
     "end_time": "2024-12-05T19:45:11.876815Z",
     "start_time": "2024-12-05T19:45:11.712589Z"
    },
    "collapsed": false
   },
   "outputs": [
    {
     "name": "stdout",
     "output_type": "stream",
     "text": [
      "{'Butterfly': 0, 'Cat': 1, 'Cow': 2, 'Dog': 3, 'Elephant': 4, 'Hen': 5, 'Horse': 6, 'Sheep': 7, 'Spider': 8, 'Squirell': 9}\n",
      "['Butterfly', 'Cat', 'Cow', 'Dog', 'Elephant', 'Hen', 'Horse', 'Sheep', 'Spider', 'Squirell']\n",
      "torch.Size([128, 3, 256, 256])\n"
     ]
    }
   ],
   "source": [
    "from torchvision import datasets, transforms\n",
    "from torch.utils.data import DataLoader, random_split\n",
    "\n",
    "root_dir = 'raw-img/raw-img'\n",
    "\n",
    "transform = transforms.Compose([\n",
    "    transforms.Resize((256, 256)),\n",
    "    transforms.RandomHorizontalFlip(),\n",
    "    transforms.RandomRotation(10),\n",
    "    transforms.ToTensor(),\n",
    "    transforms.Normalize((0.5,), (0.5,))\n",
    "])\n",
    "dataset = datasets.ImageFolder(root=root_dir, transform=transform)\n",
    "print(dataset.class_to_idx)\n",
    "classes = dataset.classes\n",
    "print(classes)\n",
    "train_size = int(0.8 * len(dataset))\n",
    "test_size = len(dataset) - train_size\n",
    "train_set, test_set = random_split(dataset, [train_size, test_size])\n",
    "train_loader = DataLoader(train_set, batch_size=128, shuffle=True)\n",
    "test_loader = DataLoader(test_set, batch_size=128, shuffle=True)\n",
    "\n",
    "img = next(iter(train_loader))\n",
    "print(img[0].shape)"
   ]
  },
  {
   "cell_type": "code",
   "execution_count": 5,
   "id": "2733165363cfd062",
   "metadata": {
    "ExecuteTime": {
     "end_time": "2024-12-05T19:45:11.905857Z",
     "start_time": "2024-12-05T19:45:11.902980Z"
    },
    "collapsed": false
   },
   "outputs": [
    {
     "data": {
      "text/plain": [
       "torch.Size([128, 3, 256, 256])"
      ]
     },
     "execution_count": 5,
     "metadata": {},
     "output_type": "execute_result"
    }
   ],
   "source": [
    "torch.squeeze(img[0], dim=0).shape"
   ]
  },
  {
   "cell_type": "code",
   "execution_count": null,
   "id": "b8adadfd035d1c3b",
   "metadata": {
    "ExecuteTime": {
     "end_time": "2024-12-05T19:45:12.100010Z",
     "start_time": "2024-12-05T19:45:12.095653Z"
    },
    "collapsed": false
   },
   "outputs": [],
   "source": [
    "class Net(nn.Module):\n",
    "    def __init__(self, num_classes):\n",
    "        super(Net, self).__init__()\n",
    "        self.conv1 = nn.Conv2d(3, 16, kernel_size=3, padding=1)\n",
    "        self.conv2 = nn.Conv2d(16, 32, kernel_size=3, padding=1)\n",
    "        self.conv3 = nn.Conv2d(32, 64, kernel_size=3, padding=1)\n",
    "        self.conv4 = nn.Conv2d(64, 128, kernel_size=3, padding=1)\n",
    "        self.pool = nn.MaxPool2d(2, 2)\n",
    "        self.fc1 = nn.Linear(128*16*16, 512)\n",
    "        self.fc2 = nn.Linear(512, num_classes)\n",
    "        self.relu = nn.ReLU()\n",
    "        self.softmax = nn.Softmax(dim=1)\n",
    "        self.dropout = nn.Dropout(0.3)\n",
    "        self.flat = nn.Flatten()\n",
    "\n",
    "    def forward(self, x):\n",
    "        x = self.pool(self.relu(self.conv1(x))) #conv1 -> relu -> pool\n",
    "        x = self.pool(self.relu(self.conv2(x)))\n",
    "        x = self.pool(self.relu(self.conv3(x)))\n",
    "        x = self.pool(self.relu(self.conv4(x)))\n",
    "\n",
    "        x = self.flat(x) #flatten\n",
    "        \n",
    "        x = self.relu(self.fc1(x))\n",
    "        x = self.dropout(x)\n",
    "        x = self.fc2(x)\n",
    "        x = self.softmax(x)\n",
    "        return x"
   ]
  },
  {
   "cell_type": "code",
   "execution_count": 7,
   "id": "96f8f589",
   "metadata": {},
   "outputs": [],
   "source": [
    "def init_weights(m):\n",
    "    if isinstance(m, nn.Linear):\n",
    "        nn.init.normal_(m.weight)\n",
    "        m.bias.data.fill_(0.01)"
   ]
  },
  {
   "cell_type": "code",
   "execution_count": 11,
   "id": "7deb0f5e",
   "metadata": {},
   "outputs": [],
   "source": [
    "from torchmetrics.classification import MulticlassAccuracy\n",
    "from torch.optim import Adam\n",
    "from torch.nn import CrossEntropyLoss\n",
    "accuracy = MulticlassAccuracy(num_classes=10).to(device)\n",
    "criterion = CrossEntropyLoss()"
   ]
  },
  {
   "cell_type": "code",
   "execution_count": 12,
   "id": "7a28c9c6b315bc15",
   "metadata": {
    "ExecuteTime": {
     "end_time": "2024-12-05T19:55:22.715658Z",
     "start_time": "2024-12-05T19:45:13.712668Z"
    },
    "collapsed": false
   },
   "outputs": [],
   "source": [
    "model = Net(num_classes=10)\n",
    "model.to(device)\n",
    "optimizer = Adam(model.parameters(), lr=0.001)\n",
    "model.apply(init_weights)\n",
    "\n",
    "def train_loop(model, train_loader, optimizer, criterion):\n",
    "    model.train()\n",
    "    train_loss = 0.0\n",
    "    for img, label in train_loader:\n",
    "        img, label = img.to(device), label.to(device)\n",
    "        \n",
    "        optimizer.zero_grad()\n",
    "        output = model(img)\n",
    "        loss = criterion(output, label)\n",
    "        loss.backward()\n",
    "        optimizer.step()\n",
    "        train_loss += loss.item()\n",
    "\n",
    "    return train_loss/len(train_loader)\n",
    "\n",
    "def validation_loop(model, test_loader, criterion):\n",
    "    model.eval()\n",
    "    val_loss = 0.0\n",
    "    accuracy.reset()\n",
    "    with torch.no_grad():\n",
    "        for img, label in test_loader:\n",
    "            img, label = img.to(device), label.to(device)\n",
    "\n",
    "            output = model(img)\n",
    "            val_loss += criterion(output, label).item()\n",
    "            accuracy.update(output, label)\n",
    "\n",
    "    accuracy_final = accuracy.compute().item()*100\n",
    "    return val_loss/len(test_loader), accuracy_final\n"
   ]
  },
  {
   "cell_type": "code",
   "execution_count": null,
   "id": "95f3e1760d43cda8",
   "metadata": {
    "ExecuteTime": {
     "end_time": "2024-12-05T19:57:31.329750Z",
     "start_time": "2024-12-05T19:57:13.778673Z"
    },
    "collapsed": false
   },
   "outputs": [
    {
     "name": "stdout",
     "output_type": "stream",
     "text": [
      "Epoch: 0, train_loss: 2.3869689775676264\n",
      "Epoch: 0, val_loss: 2.3959963437987537 Accuracy: 10.000000149011612%\n"
     ]
    }
   ],
   "source": [
    "for epoch in range(10):\n",
    "    train_loss = train_loop(model, train_loader, optimizer, criterion)\n",
    "    val_loss, accuracy = validation_loop(model, test_loader, criterion)\n",
    "    print(f'Epoch: {epoch}, train_loss: {train_loss}')\n",
    "    print(f'Epoch: {epoch}, val_loss: {val_loss} Accuracy: {accuracy}%')"
   ]
  },
  {
   "cell_type": "code",
   "execution_count": null,
   "id": "de590259f7073130",
   "metadata": {
    "collapsed": false
   },
   "outputs": [],
   "source": []
  }
 ],
 "metadata": {
  "kernelspec": {
   "display_name": "Python 3",
   "language": "python",
   "name": "python3"
  },
  "language_info": {
   "codemirror_mode": {
    "name": "ipython",
    "version": 3
   },
   "file_extension": ".py",
   "mimetype": "text/x-python",
   "name": "python",
   "nbconvert_exporter": "python",
   "pygments_lexer": "ipython3",
   "version": "3.11.4"
  }
 },
 "nbformat": 4,
 "nbformat_minor": 5
}
